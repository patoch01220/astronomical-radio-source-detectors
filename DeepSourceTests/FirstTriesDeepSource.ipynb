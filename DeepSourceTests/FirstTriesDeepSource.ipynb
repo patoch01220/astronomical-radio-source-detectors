{
 "cells": [
  {
   "cell_type": "markdown",
   "metadata": {},
   "source": [
    "# First tries DeepSource\n"
   ]
  },
  {
   "cell_type": "code",
   "execution_count": 14,
   "metadata": {},
   "outputs": [
    {
     "name": "stdout",
     "output_type": "stream",
     "text": [
      "The autoreload extension is already loaded. To reload it, use:\n",
      "  %reload_ext autoreload\n"
     ]
    }
   ],
   "source": [
    "%load_ext autoreload\n",
    "%autoreload 2\n",
    "\n",
    "import os\n",
    "import numpy as np\n",
    "import matplotlib.pylab as plt\n",
    "from matplotlib import gridspec\n",
    "from astropy.io import fits\n",
    "from tqdm import tqdm\n",
    "\n",
    "import myUtils\n",
    "import deepsource as ds\n"
   ]
  },
  {
   "cell_type": "code",
   "execution_count": 15,
   "metadata": {},
   "outputs": [
    {
     "name": "stdout",
     "output_type": "stream",
     "text": [
      "9164\n",
      "916\n"
     ]
    }
   ],
   "source": [
    "data_path = '/Users/patoch/Desktop/Patoch/Uni/2nd-Year/MasterThesis/master-thesis/Dataset.nosync'\n",
    "keys = np.load(os.path.join(data_path, \"Sources_detection/sky_keys.npy\"))\n",
    "indices = np.load(os.path.join(data_path, \"Sources_detection/seed_0/test_idx.npy\"))\n",
    "\n",
    "print(len(keys))\n",
    "print(len(indices))"
   ]
  },
  {
   "cell_type": "code",
   "execution_count": 16,
   "metadata": {},
   "outputs": [],
   "source": [
    "images_path = []   # list containing all the fits file path for the test \n",
    "\n",
    "for ind in indices:\n",
    "    key = keys[ind]\n",
    "\n",
    "    data = os.path.join(data_path, 'clean_gaussian', \"clean_gaussians_\" + key + \".fits\")\n",
    "    images_path.append(data)\n"
   ]
  },
  {
   "cell_type": "code",
   "execution_count": 17,
   "metadata": {},
   "outputs": [
    {
     "name": "stdout",
     "output_type": "stream",
     "text": [
      "916\n",
      "[[1.49061667e+02 3.62005556e+00 1.71017102e-04 0.00000000e+00\n",
      "  0.00000000e+00 0.00000000e+00 7.94639464e-01 6.52025203e-01\n",
      "  3.17479748e+02]\n",
      " [1.49060556e+02 3.61505556e+00 9.79297930e-05 0.00000000e+00\n",
      "  0.00000000e+00 0.00000000e+00 5.17091709e-01 4.19801980e-01\n",
      "  1.36093609e+01]]\n"
     ]
    }
   ],
   "source": [
    "listRealDetection = myUtils.loadAllCatFile(\"/Users/patoch/Desktop/Patoch/Uni/2nd-Year/MasterThesis/master-thesis/Dataset.nosync/Sources_detection/cat\", \"gaussians_\", indices, keys)\n",
    "print(len(listRealDetection))\n",
    "print(listRealDetection[0])"
   ]
  },
  {
   "cell_type": "code",
   "execution_count": 6,
   "metadata": {},
   "outputs": [
    {
     "name": "stderr",
     "output_type": "stream",
     "text": [
      "100%|██████████| 916/916 [00:04<00:00, 214.36it/s]\n"
     ]
    }
   ],
   "source": [
    "# compute the pixels index of ground truth positions\n",
    "listRealDetection_px = []\n",
    "for ind in tqdm(range(len(listRealDetection))):\n",
    "    listRealDetection_px.append(myUtils.RaDec2pixels(listRealDetection[ind], fits.getheader(images_path[ind])))"
   ]
  },
  {
   "cell_type": "code",
   "execution_count": 18,
   "metadata": {},
   "outputs": [
    {
     "name": "stdout",
     "output_type": "stream",
     "text": [
      "(2, 9)\n",
      "(3, 9)\n",
      "(5, 9)\n",
      "(1, 9)\n",
      "(3, 9)\n",
      "(2, 9)\n",
      "(1, 9)\n",
      "(4, 9)\n",
      "(3, 9)\n",
      "(4, 9)\n",
      "(1, 9)\n",
      "(5, 9)\n",
      "(2, 9)\n",
      "(1, 9)\n",
      "(5, 9)\n",
      "(4, 9)\n",
      "(1, 9)\n",
      "(2, 9)\n",
      "(2, 9)\n",
      "(5, 9)\n",
      "(1, 9)\n",
      "(5, 9)\n",
      "(2, 9)\n",
      "(3, 9)\n",
      "(1, 9)\n",
      "(5, 9)\n",
      "(5, 9)\n",
      "(1, 9)\n",
      "(1, 9)\n",
      "(1, 9)\n",
      "(4, 9)\n",
      "(5, 9)\n",
      "(2, 9)\n",
      "(4, 9)\n",
      "(5, 9)\n",
      "(3, 9)\n",
      "(2, 9)\n",
      "(3, 9)\n",
      "(5, 9)\n",
      "(5, 9)\n",
      "(1, 9)\n",
      "(4, 9)\n",
      "(5, 9)\n",
      "(4, 9)\n",
      "(1, 9)\n",
      "(1, 9)\n",
      "(2, 9)\n",
      "(1, 9)\n",
      "(5, 9)\n",
      "(2, 9)\n",
      "(3, 9)\n",
      "(4, 9)\n",
      "(1, 9)\n",
      "(2, 9)\n",
      "(5, 9)\n",
      "(3, 9)\n",
      "(5, 9)\n",
      "(2, 9)\n",
      "(1, 9)\n",
      "(5, 9)\n",
      "(2, 9)\n",
      "(4, 9)\n",
      "(4, 9)\n",
      "(4, 9)\n",
      "(4, 9)\n",
      "(1, 9)\n",
      "(2, 9)\n",
      "(3, 9)\n",
      "(4, 9)\n",
      "(4, 9)\n",
      "(2, 9)\n",
      "(5, 9)\n",
      "(5, 9)\n",
      "(3, 9)\n",
      "(4, 9)\n",
      "(1, 9)\n",
      "(1, 9)\n",
      "(4, 9)\n",
      "(5, 9)\n",
      "(2, 9)\n",
      "(3, 9)\n",
      "(3, 9)\n",
      "(4, 9)\n",
      "(4, 9)\n",
      "(2, 9)\n",
      "(3, 9)\n",
      "(4, 9)\n",
      "(3, 9)\n",
      "(5, 9)\n",
      "(5, 9)\n",
      "(5, 9)\n",
      "(1, 9)\n",
      "(4, 9)\n",
      "(4, 9)\n",
      "(3, 9)\n",
      "(3, 9)\n",
      "(4, 9)\n",
      "(1, 9)\n",
      "(1, 9)\n",
      "(3, 9)\n",
      "(2, 9)\n",
      "(3, 9)\n",
      "(3, 9)\n",
      "(1, 9)\n",
      "(3, 9)\n",
      "(5, 9)\n",
      "(5, 9)\n",
      "(2, 9)\n",
      "(2, 9)\n",
      "(3, 9)\n",
      "(1, 9)\n",
      "(5, 9)\n",
      "(4, 9)\n",
      "(4, 9)\n",
      "(5, 9)\n",
      "(2, 9)\n",
      "(2, 9)\n",
      "(5, 9)\n",
      "(3, 9)\n",
      "(3, 9)\n",
      "(1, 9)\n",
      "(1, 9)\n",
      "(4, 9)\n",
      "(1, 9)\n",
      "(1, 9)\n",
      "(5, 9)\n",
      "(2, 9)\n",
      "(5, 9)\n",
      "(3, 9)\n",
      "(3, 9)\n",
      "(1, 9)\n",
      "(1, 9)\n",
      "(4, 9)\n",
      "(1, 9)\n",
      "(2, 9)\n",
      "(5, 9)\n",
      "(2, 9)\n",
      "(1, 9)\n",
      "(4, 9)\n",
      "(3, 9)\n",
      "(4, 9)\n",
      "(5, 9)\n",
      "(1, 9)\n",
      "(3, 9)\n",
      "(2, 9)\n",
      "(1, 9)\n",
      "(2, 9)\n",
      "(4, 9)\n",
      "(5, 9)\n",
      "(2, 9)\n",
      "(3, 9)\n",
      "(4, 9)\n",
      "(5, 9)\n",
      "(2, 9)\n",
      "(2, 9)\n",
      "(1, 9)\n",
      "(3, 9)\n",
      "(5, 9)\n",
      "(3, 9)\n",
      "(2, 9)\n",
      "(2, 9)\n",
      "(5, 9)\n",
      "(1, 9)\n",
      "(1, 9)\n",
      "(5, 9)\n",
      "(4, 9)\n",
      "(1, 9)\n",
      "(1, 9)\n",
      "(4, 9)\n",
      "(5, 9)\n",
      "(3, 9)\n",
      "(2, 9)\n",
      "(4, 9)\n",
      "(3, 9)\n",
      "(2, 9)\n",
      "(3, 9)\n",
      "(4, 9)\n",
      "(5, 9)\n",
      "(5, 9)\n",
      "(4, 9)\n",
      "(5, 9)\n",
      "(2, 9)\n",
      "(3, 9)\n",
      "(3, 9)\n",
      "(2, 9)\n",
      "(3, 9)\n",
      "(5, 9)\n",
      "(2, 9)\n",
      "(3, 9)\n",
      "(5, 9)\n",
      "(4, 9)\n",
      "(1, 9)\n",
      "(1, 9)\n",
      "(4, 9)\n",
      "(1, 9)\n",
      "(3, 9)\n",
      "(5, 9)\n",
      "(5, 9)\n",
      "(3, 9)\n",
      "(1, 9)\n",
      "(1, 9)\n",
      "(2, 9)\n",
      "(3, 9)\n",
      "(3, 9)\n",
      "(3, 9)\n",
      "(5, 9)\n",
      "(2, 9)\n",
      "(2, 9)\n",
      "(4, 9)\n",
      "(3, 9)\n",
      "(3, 9)\n",
      "(3, 9)\n",
      "(3, 9)\n",
      "(4, 9)\n",
      "(2, 9)\n",
      "(2, 9)\n",
      "(5, 9)\n",
      "(4, 9)\n",
      "(1, 9)\n",
      "(5, 9)\n",
      "(1, 9)\n",
      "(4, 9)\n",
      "(3, 9)\n",
      "(3, 9)\n",
      "(5, 9)\n",
      "(3, 9)\n",
      "(4, 9)\n",
      "(3, 9)\n",
      "(5, 9)\n",
      "(1, 9)\n",
      "(1, 9)\n",
      "(1, 9)\n",
      "(2, 9)\n",
      "(4, 9)\n",
      "(5, 9)\n",
      "(1, 9)\n",
      "(2, 9)\n",
      "(2, 9)\n",
      "(4, 9)\n",
      "(2, 9)\n",
      "(4, 9)\n",
      "(2, 9)\n",
      "(5, 9)\n",
      "(3, 9)\n",
      "(2, 9)\n",
      "(5, 9)\n",
      "(5, 9)\n",
      "(3, 9)\n",
      "(4, 9)\n",
      "(4, 9)\n",
      "(5, 9)\n",
      "(3, 9)\n",
      "(2, 9)\n",
      "(4, 9)\n",
      "(2, 9)\n",
      "(1, 9)\n",
      "(5, 9)\n",
      "(1, 9)\n",
      "(2, 9)\n",
      "(4, 9)\n",
      "(4, 9)\n",
      "(2, 9)\n",
      "(1, 9)\n",
      "(3, 9)\n",
      "(3, 9)\n",
      "(2, 9)\n",
      "(2, 9)\n",
      "(2, 9)\n",
      "(2, 9)\n",
      "(1, 9)\n",
      "(1, 9)\n",
      "(5, 9)\n",
      "(4, 9)\n",
      "(4, 9)\n",
      "(3, 9)\n",
      "(3, 9)\n",
      "(2, 9)\n",
      "(1, 9)\n",
      "(2, 9)\n",
      "(1, 9)\n",
      "(2, 9)\n",
      "(2, 9)\n",
      "(4, 9)\n",
      "(5, 9)\n",
      "(4, 9)\n",
      "(4, 9)\n",
      "(3, 9)\n",
      "(1, 9)\n",
      "(3, 9)\n",
      "(3, 9)\n",
      "(4, 9)\n",
      "(5, 9)\n",
      "(3, 9)\n",
      "(3, 9)\n",
      "(4, 9)\n",
      "(4, 9)\n",
      "(5, 9)\n",
      "(4, 9)\n",
      "(5, 9)\n",
      "(2, 9)\n",
      "(3, 9)\n",
      "(2, 9)\n",
      "(1, 9)\n",
      "(5, 9)\n",
      "(4, 9)\n",
      "(5, 9)\n",
      "(1, 9)\n",
      "(2, 9)\n",
      "(5, 9)\n",
      "(1, 9)\n",
      "(5, 9)\n",
      "(4, 9)\n",
      "(5, 9)\n",
      "(5, 9)\n",
      "(1, 9)\n",
      "(3, 9)\n",
      "(3, 9)\n",
      "(5, 9)\n",
      "(2, 9)\n",
      "(2, 9)\n",
      "(1, 9)\n",
      "(5, 9)\n",
      "(3, 9)\n",
      "(5, 9)\n",
      "(5, 9)\n",
      "(3, 9)\n",
      "(2, 9)\n",
      "(3, 9)\n",
      "(4, 9)\n",
      "(3, 9)\n",
      "(5, 9)\n",
      "(2, 9)\n",
      "(4, 9)\n",
      "(1, 9)\n",
      "(4, 9)\n",
      "(2, 9)\n",
      "(4, 9)\n",
      "(3, 9)\n",
      "(1, 9)\n",
      "(5, 9)\n",
      "(3, 9)\n",
      "(3, 9)\n",
      "(3, 9)\n",
      "(5, 9)\n",
      "(4, 9)\n",
      "(3, 9)\n",
      "(4, 9)\n",
      "(4, 9)\n",
      "(1, 9)\n",
      "(1, 9)\n",
      "(2, 9)\n",
      "(5, 9)\n",
      "(1, 9)\n",
      "(3, 9)\n",
      "(2, 9)\n",
      "(1, 9)\n",
      "(3, 9)\n",
      "(2, 9)\n",
      "(1, 9)\n",
      "(5, 9)\n",
      "(2, 9)\n",
      "(1, 9)\n",
      "(2, 9)\n",
      "(3, 9)\n",
      "(5, 9)\n",
      "(2, 9)\n",
      "(3, 9)\n",
      "(5, 9)\n",
      "(3, 9)\n",
      "(1, 9)\n",
      "(5, 9)\n",
      "(5, 9)\n",
      "(3, 9)\n",
      "(2, 9)\n",
      "(3, 9)\n",
      "(1, 9)\n",
      "(1, 9)\n",
      "(3, 9)\n",
      "(3, 9)\n",
      "(4, 9)\n",
      "(5, 9)\n",
      "(5, 9)\n",
      "(5, 9)\n",
      "(5, 9)\n",
      "(5, 9)\n",
      "(3, 9)\n",
      "(4, 9)\n",
      "(5, 9)\n",
      "(2, 9)\n",
      "(5, 9)\n",
      "(1, 9)\n",
      "(3, 9)\n",
      "(4, 9)\n",
      "(3, 9)\n",
      "(5, 9)\n",
      "(4, 9)\n",
      "(3, 9)\n",
      "(1, 9)\n",
      "(1, 9)\n",
      "(4, 9)\n",
      "(2, 9)\n",
      "(5, 9)\n",
      "(4, 9)\n",
      "(2, 9)\n",
      "(3, 9)\n",
      "(2, 9)\n",
      "(3, 9)\n",
      "(1, 9)\n",
      "(5, 9)\n",
      "(5, 9)\n",
      "(5, 9)\n",
      "(3, 9)\n",
      "(2, 9)\n",
      "(4, 9)\n",
      "(4, 9)\n",
      "(5, 9)\n",
      "(1, 9)\n",
      "(4, 9)\n",
      "(5, 9)\n",
      "(4, 9)\n",
      "(3, 9)\n",
      "(5, 9)\n",
      "(2, 9)\n",
      "(5, 9)\n",
      "(5, 9)\n",
      "(5, 9)\n",
      "(3, 9)\n",
      "(3, 9)\n",
      "(5, 9)\n",
      "(5, 9)\n",
      "(5, 9)\n",
      "(4, 9)\n",
      "(5, 9)\n",
      "(3, 9)\n",
      "(3, 9)\n",
      "(1, 9)\n",
      "(5, 9)\n",
      "(2, 9)\n",
      "(5, 9)\n",
      "(3, 9)\n",
      "(4, 9)\n",
      "(3, 9)\n",
      "(3, 9)\n",
      "(1, 9)\n",
      "(4, 9)\n",
      "(2, 9)\n",
      "(2, 9)\n",
      "(1, 9)\n",
      "(4, 9)\n",
      "(2, 9)\n",
      "(2, 9)\n",
      "(1, 9)\n",
      "(3, 9)\n",
      "(4, 9)\n",
      "(2, 9)\n",
      "(2, 9)\n",
      "(1, 9)\n",
      "(4, 9)\n",
      "(4, 9)\n",
      "(5, 9)\n",
      "(5, 9)\n",
      "(3, 9)\n",
      "(4, 9)\n",
      "(1, 9)\n",
      "(2, 9)\n",
      "(1, 9)\n",
      "(4, 9)\n",
      "(2, 9)\n",
      "(2, 9)\n",
      "(3, 9)\n",
      "(5, 9)\n",
      "(5, 9)\n",
      "(3, 9)\n",
      "(2, 9)\n",
      "(3, 9)\n",
      "(4, 9)\n",
      "(3, 9)\n",
      "(1, 9)\n",
      "(1, 9)\n",
      "(2, 9)\n",
      "(4, 9)\n",
      "(3, 9)\n",
      "(1, 9)\n",
      "(1, 9)\n",
      "(1, 9)\n",
      "(2, 9)\n",
      "(4, 9)\n",
      "(3, 9)\n",
      "(3, 9)\n",
      "(4, 9)\n",
      "(1, 9)\n",
      "(3, 9)\n",
      "(4, 9)\n",
      "(5, 9)\n",
      "(4, 9)\n",
      "(2, 9)\n",
      "(4, 9)\n",
      "(3, 9)\n",
      "(3, 9)\n",
      "(2, 9)\n",
      "(3, 9)\n",
      "(2, 9)\n",
      "(4, 9)\n",
      "(5, 9)\n",
      "(4, 9)\n",
      "(3, 9)\n",
      "(4, 9)\n",
      "(2, 9)\n",
      "(3, 9)\n",
      "(5, 9)\n",
      "(5, 9)\n",
      "(5, 9)\n",
      "(3, 9)\n",
      "(1, 9)\n",
      "(1, 9)\n",
      "(1, 9)\n",
      "(5, 9)\n",
      "(3, 9)\n",
      "(3, 9)\n",
      "(4, 9)\n",
      "(4, 9)\n",
      "(4, 9)\n",
      "(3, 9)\n",
      "(1, 9)\n",
      "(3, 9)\n",
      "(5, 9)\n",
      "(3, 9)\n",
      "(5, 9)\n",
      "(4, 9)\n",
      "(2, 9)\n",
      "(3, 9)\n",
      "(3, 9)\n",
      "(4, 9)\n",
      "(5, 9)\n",
      "(1, 9)\n",
      "(4, 9)\n",
      "(1, 9)\n",
      "(2, 9)\n",
      "(5, 9)\n",
      "(4, 9)\n",
      "(5, 9)\n",
      "(5, 9)\n",
      "(4, 9)\n",
      "(2, 9)\n",
      "(1, 9)\n",
      "(3, 9)\n",
      "(3, 9)\n",
      "(2, 9)\n",
      "(1, 9)\n",
      "(4, 9)\n",
      "(5, 9)\n",
      "(1, 9)\n",
      "(3, 9)\n",
      "(2, 9)\n",
      "(2, 9)\n",
      "(1, 9)\n",
      "(3, 9)\n",
      "(4, 9)\n",
      "(5, 9)\n",
      "(5, 9)\n",
      "(4, 9)\n",
      "(3, 9)\n",
      "(3, 9)\n",
      "(4, 9)\n",
      "(3, 9)\n",
      "(1, 9)\n",
      "(2, 9)\n",
      "(5, 9)\n",
      "(2, 9)\n",
      "(3, 9)\n",
      "(3, 9)\n",
      "(5, 9)\n",
      "(3, 9)\n",
      "(1, 9)\n",
      "(1, 9)\n",
      "(5, 9)\n",
      "(2, 9)\n",
      "(1, 9)\n",
      "(2, 9)\n",
      "(1, 9)\n",
      "(5, 9)\n",
      "(2, 9)\n",
      "(2, 9)\n",
      "(4, 9)\n",
      "(3, 9)\n",
      "(3, 9)\n",
      "(4, 9)\n",
      "(5, 9)\n",
      "(5, 9)\n",
      "(5, 9)\n",
      "(3, 9)\n",
      "(1, 9)\n",
      "(4, 9)\n",
      "(3, 9)\n",
      "(5, 9)\n",
      "(4, 9)\n",
      "(5, 9)\n",
      "(3, 9)\n",
      "(4, 9)\n",
      "(5, 9)\n",
      "(3, 9)\n",
      "(2, 9)\n",
      "(5, 9)\n",
      "(4, 9)\n",
      "(5, 9)\n",
      "(4, 9)\n",
      "(2, 9)\n",
      "(3, 9)\n",
      "(3, 9)\n",
      "(2, 9)\n",
      "(3, 9)\n",
      "(3, 9)\n",
      "(4, 9)\n",
      "(4, 9)\n",
      "(5, 9)\n",
      "(4, 9)\n",
      "(5, 9)\n",
      "(5, 9)\n",
      "(3, 9)\n",
      "(3, 9)\n",
      "(1, 9)\n",
      "(5, 9)\n",
      "(5, 9)\n",
      "(4, 9)\n",
      "(1, 9)\n",
      "(3, 9)\n",
      "(5, 9)\n",
      "(1, 9)\n",
      "(3, 9)\n",
      "(4, 9)\n",
      "(3, 9)\n",
      "(4, 9)\n",
      "(2, 9)\n",
      "(4, 9)\n",
      "(1, 9)\n",
      "(5, 9)\n",
      "(2, 9)\n",
      "(5, 9)\n",
      "(3, 9)\n",
      "(2, 9)\n",
      "(5, 9)\n",
      "(1, 9)\n",
      "(3, 9)\n",
      "(4, 9)\n",
      "(2, 9)\n",
      "(2, 9)\n",
      "(3, 9)\n",
      "(3, 9)\n",
      "(5, 9)\n",
      "(3, 9)\n",
      "(5, 9)\n",
      "(4, 9)\n",
      "(1, 9)\n",
      "(2, 9)\n",
      "(2, 9)\n",
      "(1, 9)\n",
      "(3, 9)\n",
      "(2, 9)\n",
      "(1, 9)\n",
      "(5, 9)\n",
      "(1, 9)\n",
      "(4, 9)\n",
      "(3, 9)\n",
      "(4, 9)\n",
      "(2, 9)\n",
      "(2, 9)\n",
      "(3, 9)\n",
      "(1, 9)\n",
      "(5, 9)\n",
      "(5, 9)\n",
      "(5, 9)\n",
      "(1, 9)\n",
      "(2, 9)\n",
      "(5, 9)\n",
      "(1, 9)\n",
      "(3, 9)\n",
      "(2, 9)\n",
      "(2, 9)\n",
      "(1, 9)\n",
      "(1, 9)\n",
      "(4, 9)\n",
      "(5, 9)\n",
      "(5, 9)\n",
      "(5, 9)\n",
      "(4, 9)\n",
      "(3, 9)\n",
      "(1, 9)\n",
      "(2, 9)\n",
      "(2, 9)\n",
      "(4, 9)\n",
      "(2, 9)\n",
      "(5, 9)\n",
      "(2, 9)\n",
      "(1, 9)\n",
      "(1, 9)\n",
      "(3, 9)\n",
      "(1, 9)\n",
      "(4, 9)\n",
      "(1, 9)\n",
      "(1, 9)\n",
      "(4, 9)\n",
      "(2, 9)\n",
      "(3, 9)\n",
      "(4, 9)\n",
      "(4, 9)\n",
      "(2, 9)\n",
      "(1, 9)\n",
      "(4, 9)\n",
      "(1, 9)\n",
      "(5, 9)\n",
      "(5, 9)\n",
      "(5, 9)\n",
      "(2, 9)\n",
      "(2, 9)\n",
      "(4, 9)\n",
      "(5, 9)\n",
      "(2, 9)\n",
      "(1, 9)\n",
      "(2, 9)\n",
      "(4, 9)\n",
      "(1, 9)\n",
      "(4, 9)\n",
      "(2, 9)\n",
      "(4, 9)\n",
      "(4, 9)\n",
      "(5, 9)\n",
      "(2, 9)\n",
      "(5, 9)\n",
      "(1, 9)\n",
      "(5, 9)\n",
      "(5, 9)\n",
      "(4, 9)\n",
      "(2, 9)\n",
      "(4, 9)\n",
      "(4, 9)\n",
      "(2, 9)\n",
      "(5, 9)\n",
      "(4, 9)\n",
      "(4, 9)\n",
      "(3, 9)\n",
      "(2, 9)\n",
      "(5, 9)\n",
      "(4, 9)\n",
      "(5, 9)\n",
      "(5, 9)\n",
      "(4, 9)\n",
      "(5, 9)\n",
      "(2, 9)\n",
      "(2, 9)\n",
      "(3, 9)\n",
      "(3, 9)\n",
      "(4, 9)\n",
      "(1, 9)\n",
      "(1, 9)\n",
      "(5, 9)\n",
      "(3, 9)\n",
      "(2, 9)\n",
      "(1, 9)\n",
      "(1, 9)\n",
      "(3, 9)\n",
      "(2, 9)\n",
      "(1, 9)\n",
      "(1, 9)\n",
      "(3, 9)\n",
      "(4, 9)\n",
      "(5, 9)\n",
      "(3, 9)\n",
      "(5, 9)\n",
      "(4, 9)\n",
      "(1, 9)\n",
      "(5, 9)\n",
      "(1, 9)\n",
      "(5, 9)\n",
      "(5, 9)\n",
      "(4, 9)\n",
      "(3, 9)\n",
      "(1, 9)\n",
      "(2, 9)\n",
      "(2, 9)\n",
      "(3, 9)\n",
      "(4, 9)\n",
      "(3, 9)\n",
      "(4, 9)\n",
      "(5, 9)\n",
      "(4, 9)\n",
      "(2, 9)\n",
      "(5, 9)\n",
      "(4, 9)\n",
      "(4, 9)\n",
      "(5, 9)\n",
      "(1, 9)\n",
      "(4, 9)\n",
      "(4, 9)\n",
      "(3, 9)\n",
      "(5, 9)\n",
      "(3, 9)\n",
      "(5, 9)\n",
      "(5, 9)\n",
      "(2, 9)\n",
      "(5, 9)\n",
      "(3, 9)\n",
      "(5, 9)\n",
      "(2, 9)\n",
      "(1, 9)\n",
      "(5, 9)\n",
      "(3, 9)\n",
      "(1, 9)\n",
      "(5, 9)\n",
      "(3, 9)\n",
      "(4, 9)\n",
      "(1, 9)\n",
      "(1, 9)\n",
      "(2, 9)\n",
      "(2, 9)\n",
      "(4, 9)\n",
      "(3, 9)\n",
      "(1, 9)\n",
      "(1, 9)\n",
      "(2, 9)\n",
      "(4, 9)\n",
      "(2, 9)\n",
      "(2, 9)\n",
      "(5, 9)\n",
      "(3, 9)\n",
      "(1, 9)\n",
      "(4, 9)\n",
      "(5, 9)\n",
      "(1, 9)\n",
      "(3, 9)\n",
      "(2, 9)\n",
      "(2, 9)\n",
      "(5, 9)\n",
      "(5, 9)\n",
      "(3, 9)\n",
      "(5, 9)\n",
      "(3, 9)\n",
      "(2, 9)\n",
      "(2, 9)\n",
      "(1, 9)\n",
      "(3, 9)\n",
      "(4, 9)\n",
      "(5, 9)\n",
      "(4, 9)\n",
      "(4, 9)\n",
      "(4, 9)\n",
      "(2, 9)\n",
      "(1, 9)\n",
      "(1, 9)\n",
      "(2, 9)\n",
      "(3, 9)\n",
      "(4, 9)\n",
      "(1, 9)\n",
      "(2, 9)\n",
      "(5, 9)\n",
      "(4, 9)\n",
      "(1, 9)\n",
      "(2, 9)\n",
      "(5, 9)\n",
      "(5, 9)\n",
      "(3, 9)\n",
      "(3, 9)\n",
      "(1, 9)\n",
      "(3, 9)\n",
      "(2, 9)\n",
      "(3, 9)\n",
      "(2, 9)\n",
      "(4, 9)\n",
      "(5, 9)\n",
      "(3, 9)\n",
      "(5, 9)\n",
      "(2, 9)\n",
      "(1, 9)\n",
      "(4, 9)\n",
      "(5, 9)\n",
      "(5, 9)\n",
      "(2, 9)\n",
      "(2, 9)\n",
      "(5, 9)\n",
      "(4, 9)\n",
      "(3, 9)\n",
      "(4, 9)\n",
      "(3, 9)\n",
      "(5, 9)\n",
      "(2, 9)\n",
      "(3, 9)\n",
      "(3, 9)\n",
      "(2, 9)\n",
      "(1, 9)\n",
      "(2, 9)\n",
      "(2, 9)\n",
      "(5, 9)\n",
      "(3, 9)\n",
      "(5, 9)\n",
      "(4, 9)\n",
      "(2, 9)\n",
      "(2, 9)\n",
      "(1, 9)\n",
      "(3, 9)\n",
      "(2, 9)\n",
      "(3, 9)\n",
      "(5, 9)\n",
      "(5, 9)\n",
      "(4, 9)\n",
      "(4, 9)\n",
      "(4, 9)\n",
      "(1, 9)\n",
      "(2, 9)\n",
      "(2, 9)\n",
      "(4, 9)\n",
      "(5, 9)\n",
      "(3, 9)\n",
      "(5, 9)\n",
      "(3, 9)\n",
      "(3, 9)\n",
      "(3, 9)\n",
      "(5, 9)\n"
     ]
    }
   ],
   "source": [
    "for tt in listRealDetection:\n",
    "    print(np.array(tt).shape)"
   ]
  },
  {
   "cell_type": "code",
   "execution_count": 7,
   "metadata": {},
   "outputs": [],
   "source": [
    "writingModelFile_path = '/Users/patoch/Desktop/Patoch/Uni/2nd-Year/MasterThesis/master-thesis/Dataset.nosync/modelDeepSource/clean_gaussian'\n",
    "myUtils.writingModel(writingModelFile_path, listRealDetection, 'clean_gaussians_', indices, keys)"
   ]
  },
  {
   "cell_type": "code",
   "execution_count": 8,
   "metadata": {},
   "outputs": [
    {
     "data": {
      "text/plain": [
       "916"
      ]
     },
     "execution_count": 8,
     "metadata": {},
     "output_type": "execute_result"
    }
   ],
   "source": [
    "models_path = []   # list containing all the fits file path for the test \n",
    "\n",
    "for ind in indices:\n",
    "    key = keys[ind]\n",
    "\n",
    "    data = os.path.join(writingModelFile_path, \"clean_gaussians_\" + key + \".txt\")\n",
    "    models_path.append(data)\n",
    "len(models_path)\n"
   ]
  },
  {
   "cell_type": "code",
   "execution_count": 9,
   "metadata": {},
   "outputs": [
    {
     "name": "stdout",
     "output_type": "stream",
     "text": [
      "/Users/patoch/Desktop/Patoch/Uni/2nd-Year/MasterThesis/master-thesis/Dataset.nosync/clean_gaussian/clean_gaussians_1b389198-5a06-4fa9-868e-f6edcdac7692.fits\n",
      "/Users/patoch/Desktop/Patoch/Uni/2nd-Year/MasterThesis/master-thesis/Dataset.nosync/modelDeepSource/clean_gaussian/clean_gaussians_1b389198-5a06-4fa9-868e-f6edcdac7692.txt\n"
     ]
    }
   ],
   "source": [
    "print(images_path[0])\n",
    "print(models_path[0])"
   ]
  },
  {
   "cell_type": "code",
   "execution_count": 10,
   "metadata": {},
   "outputs": [
    {
     "name": "stdout",
     "output_type": "stream",
     "text": [
      "number of files:  1 , number of channels:  1\n"
     ]
    },
    {
     "name": "stderr",
     "output_type": "stream",
     "text": [
      "WARNING: FITSFixedWarning: 'datfix' made the change 'Set MJD-OBS to 56658.316936 from DATE-OBS'. [astropy.wcs.wcs]\n",
      "WARNING: FITSFixedWarning: 'obsfix' made the change 'Set OBSGEO-L to   -67.754929 from OBSGEO-[XYZ].\n",
      "Set OBSGEO-B to   -23.022886 from OBSGEO-[XYZ].\n",
      "Set OBSGEO-H to     5053.796 from OBSGEO-[XYZ]'. [astropy.wcs.wcs]\n"
     ]
    },
    {
     "data": {
      "image/png": "[encoded data removed]",
      "text/plain": [
       "<Figure size 600x300 with 2 Axes>"
      ]
     },
     "metadata": {},
     "output_type": "display_data"
    }
   ],
   "source": [
    "def kernels(cat):\n",
    "    out = ds.horn_kernel(cat,radius=10,step_height=2)\n",
    "    return ds.gaussian_kernel(out,sigma=7)\n",
    "\n",
    "patch_size = 510\n",
    "# ppdp = ds.GeneralDataProvider(images_path=images_path[:4],models_path=models_path[:4], margin=0, nx=patch_size, ny=patch_size,kernels=kernels, b_n=0.05, alpha=0)\n",
    "ppdp = ds.GeneralDataProvider(images_path=['/Users/patoch/Desktop/Patoch/Uni/2nd-Year/MasterThesis/master-thesis/Dataset.nosync/clean_gaussian/clean_gaussians_0a543e5b-3e32-4f96-94a3-8da6d8bd12f8.fits'],models_path=['/Users/patoch/Desktop/Patoch/Uni/2nd-Year/MasterThesis/master-thesis/Dataset.nosync/modelDeepSource/clean_gaussian/clean_gaussians_0a543e5b-3e32-4f96-94a3-8da6d8bd12f8.txt'], margin=0, nx=patch_size, ny=patch_size,kernels=kernels, b_n=0.05, alpha=0)\n",
    "\n",
    "\n",
    "x,y = ppdp(1)\n",
    "x = np.nan_to_num(x, 0)\n",
    "y = np.nan_to_num(y, 0)\n",
    "\n",
    "gs = gridspec.GridSpec(1, 2)\n",
    "plt.figure(figsize=(6,3)) \n",
    "\n",
    "ax = plt.subplot(gs[0, 0])\n",
    "ax.imshow(x[0,:,:,0])\n",
    "ax.set_title('Image')\n",
    "plt.axis('off')\n",
    "\n",
    "ax = plt.subplot(gs[0, 1])\n",
    "ax.imshow(y[0,:,:,0])\n",
    "ax.set_title('Demand')\n",
    "plt.axis('off');\n",
    "\n",
    "plt.subplots_adjust(wspace=0.05)"
   ]
  },
  {
   "cell_type": "code",
   "execution_count": 11,
   "metadata": {},
   "outputs": [
    {
     "name": "stdout",
     "output_type": "stream",
     "text": [
      "number of files:  5 , number of channels:  1\n"
     ]
    },
    {
     "name": "stderr",
     "output_type": "stream",
     "text": [
      "WARNING: FITSFixedWarning: 'datfix' made the change 'Set MJD-OBS to 56658.323032 from DATE-OBS'. [astropy.wcs.wcs]\n"
     ]
    },
    {
     "data": {
      "image/png": "[encoded data removed]",
      "text/plain": [
       "<Figure size 600x300 with 2 Axes>"
      ]
     },
     "metadata": {},
     "output_type": "display_data"
    }
   ],
   "source": [
    "ppdp = ds.GeneralDataProvider(images_path=images_path[:5],models_path=models_path[:5], margin=0, nx=patch_size, ny=patch_size,kernels=kernels, b_n=0.05, alpha=0)\n",
    "\n",
    "x,y = ppdp(1)\n",
    "x = np.nan_to_num(x, 0)\n",
    "y = np.nan_to_num(y, 0)\n",
    "\n",
    "gs = gridspec.GridSpec(1, 2)\n",
    "plt.figure(figsize=(6,3)) \n",
    "\n",
    "ax = plt.subplot(gs[0, 0])\n",
    "ax.imshow(x[0,:,:,0])\n",
    "ax.set_title('Image')\n",
    "plt.axis('off')\n",
    "\n",
    "ax = plt.subplot(gs[0, 1])\n",
    "ax.imshow(y[0,:,:,0])\n",
    "ax.set_title('Demand')\n",
    "plt.axis('off');\n",
    "\n",
    "plt.subplots_adjust(wspace=0.05)"
   ]
  },
  {
   "cell_type": "code",
   "execution_count": 12,
   "metadata": {},
   "outputs": [
    {
     "name": "stdout",
     "output_type": "stream",
     "text": [
      "number of files:  916 , number of channels:  1\n"
     ]
    },
    {
     "name": "stderr",
     "output_type": "stream",
     "text": [
      "/Users/patoch/opt/anaconda3/envs/deepsource_env/lib/python3.9/site-packages/tensorflow/python/keras/legacy_tf_layers/convolutional.py:414: UserWarning: `tf.layers.conv2d` is deprecated and will be removed in a future version. Please Use `tf.keras.layers.Conv2D` instead.\n",
      "  warnings.warn('`tf.layers.conv2d` is deprecated and '\n",
      "/Users/patoch/opt/anaconda3/envs/deepsource_env/lib/python3.9/site-packages/tensorflow/python/keras/engine/base_layer_v1.py:1719: UserWarning: `layer.apply` is deprecated and will be removed in a future version. Please use `layer.__call__` method instead.\n",
      "  warnings.warn('`layer.apply` is deprecated and '\n",
      "/Users/patoch/opt/anaconda3/envs/deepsource_env/lib/python3.9/site-packages/tensorflow/python/keras/legacy_tf_layers/normalization.py:307: UserWarning: `tf.layers.batch_normalization` is deprecated and will be removed in a future version. Please use `tf.keras.layers.BatchNormalization` instead. In particular, `tf.control_dependencies(tf.GraphKeys.UPDATE_OPS)` should not be used (consult the `tf.keras.layers.BatchNormalization` documentation).\n",
      "  warnings.warn(\n",
      "/Users/patoch/opt/anaconda3/envs/deepsource_env/lib/python3.9/site-packages/tensorflow/python/keras/legacy_tf_layers/core.py:268: UserWarning: `tf.layers.dropout` is deprecated and will be removed in a future version. Please use `tf.keras.layers.Dropout` instead.\n",
      "  warnings.warn('`tf.layers.dropout` is deprecated and '\n"
     ]
    },
    {
     "name": "stdout",
     "output_type": "stream",
     "text": [
      "WARNING:tensorflow:From /Users/patoch/opt/anaconda3/envs/deepsource_env/lib/python3.9/site-packages/tensorflow/python/training/rmsprop.py:123: calling Ones.__init__ (from tensorflow.python.ops.init_ops) with dtype is deprecated and will be removed in a future version.\n",
      "Instructions for updating:\n",
      "Call initializer instance with the dtype argument instead of passing it to the constructor\n",
      "INFO:tensorflow:Restoring parameters from ./cmodel/model\n"
     ]
    },
    {
     "name": "stderr",
     "output_type": "stream",
     "text": [
      "2022-12-07 18:10:24.562110: I tensorflow/core/platform/cpu_feature_guard.cc:142] This TensorFlow binary is optimized with oneAPI Deep Neural Network Library (oneDNN) to use the following CPU instructions in performance-critical operations:  SSE4.1 SSE4.2 AVX AVX2 FMA\n",
      "To enable them in other operations, rebuild TensorFlow with the appropriate compiler flags.\n",
      "2022-12-07 18:10:24.616918: I tensorflow/compiler/mlir/mlir_graph_optimization_pass.cc:196] None of the MLIR optimization passes are enabled (registered 0 passes)\n",
      "WARNING: FITSFixedWarning: 'datfix' made the change 'Set MJD-OBS to 56658.314627 from DATE-OBS'. [astropy.wcs.wcs]\n",
      "WARNING: FITSFixedWarning: 'datfix' made the change 'Set MJD-OBS to 56658.314546 from DATE-OBS'. [astropy.wcs.wcs]\n",
      "WARNING: FITSFixedWarning: 'datfix' made the change 'Set MJD-OBS to 56658.319663 from DATE-OBS'. [astropy.wcs.wcs]\n",
      "WARNING: FITSFixedWarning: 'datfix' made the change 'Set MJD-OBS to 56658.318545 from DATE-OBS'. [astropy.wcs.wcs]\n",
      "WARNING: FITSFixedWarning: 'datfix' made the change 'Set MJD-OBS to 56658.319858 from DATE-OBS'. [astropy.wcs.wcs]\n",
      "WARNING: FITSFixedWarning: 'datfix' made the change 'Set MJD-OBS to 56658.317151 from DATE-OBS'. [astropy.wcs.wcs]\n",
      "WARNING: FITSFixedWarning: 'datfix' made the change 'Set MJD-OBS to 56658.321857 from DATE-OBS'. [astropy.wcs.wcs]\n",
      "WARNING: FITSFixedWarning: 'datfix' made the change 'Set MJD-OBS to 56658.316386 from DATE-OBS'. [astropy.wcs.wcs]\n",
      "WARNING: FITSFixedWarning: 'datfix' made the change 'Set MJD-OBS to 56658.320687 from DATE-OBS'. [astropy.wcs.wcs]\n",
      "WARNING: FITSFixedWarning: 'datfix' made the change 'Set MJD-OBS to 56658.320812 from DATE-OBS'. [astropy.wcs.wcs]\n"
     ]
    },
    {
     "name": "stdout",
     "output_type": "stream",
     "text": [
      "Epoch:0, cost= 534.246474\n"
     ]
    }
   ],
   "source": [
    "ppdp = ds.GeneralDataProvider(images_path=images_path,models_path=models_path, margin=0, nx=510, ny=510,kernels=kernels, b_n=0.05, alpha=0)\n",
    "\n",
    "model_add = './cmodel'\n",
    "restore = os.path.exists(model_add)\n",
    "\n",
    "cnn = ds.ConvolutionalLayers(nx=patch_size,n_channel=1,restore=restore,model_add=model_add,arch_file_name='arch')\n",
    "\n",
    "cnn.train(ppdp,training_epochs=1,learning_rate = 0.01,n_s=1,dropout=0.2,verbose=10)\n"
   ]
  },
  {
   "cell_type": "code",
   "execution_count": 13,
   "metadata": {},
   "outputs": [
    {
     "name": "stderr",
     "output_type": "stream",
     "text": [
      "WARNING: FITSFixedWarning: 'datfix' made the change 'Set MJD-OBS to 56658.316940 from DATE-OBS'. [astropy.wcs.wcs]\n",
      "/Users/patoch/opt/anaconda3/envs/deepsource_env/lib/python3.9/site-packages/deepsource-0.1.0-py3.9.egg/deepsource/ps_extract.py:57: RuntimeWarning: invalid value encountered in divide\n",
      "  xp = xp/xp.max()\n"
     ]
    },
    {
     "name": "stdout",
     "output_type": "stream",
     "text": [
      "0  point sources are found!\n",
      "0  points are in noisy borders!\n",
      "[]\n"
     ]
    },
    {
     "data": {
      "image/png": "[encoded data removed]",
      "text/plain": [
       "<Figure size 640x480 with 1 Axes>"
      ]
     },
     "metadata": {},
     "output_type": "display_data"
    }
   ],
   "source": [
    "image_file = images_path[0]\n",
    "model_file = models_path[0]\n",
    "\n",
    "catalog = ds.ps_extract(image_file,model_file,cnn,ds.fetch_data,loc_det='mean',ignore_border=0,jump_lim=3,area_lim=0,threshold_0=1.,lw=510,pad=1,verbose=False,useNetwork=True)\n",
    "ds.visualize_cross_match(image_file,model_file,catalog,border=30)\n",
    "print(catalog[:,:2])"
   ]
  },
  {
   "cell_type": "markdown",
   "metadata": {},
   "source": [
    "# Baseline - Try the source detection without the NN"
   ]
  },
  {
   "cell_type": "code",
   "execution_count": 11,
   "metadata": {},
   "outputs": [
    {
     "name": "stdout",
     "output_type": "stream",
     "text": [
      "number of files:  916 , number of channels:  1\n"
     ]
    },
    {
     "name": "stderr",
     "output_type": "stream",
     "text": [
      "/Users/patoch/opt/anaconda3/envs/deepsource_env/lib/python3.9/site-packages/tensorflow/python/keras/legacy_tf_layers/convolutional.py:414: UserWarning: `tf.layers.conv2d` is deprecated and will be removed in a future version. Please Use `tf.keras.layers.Conv2D` instead.\n",
      "  warnings.warn('`tf.layers.conv2d` is deprecated and '\n",
      "/Users/patoch/opt/anaconda3/envs/deepsource_env/lib/python3.9/site-packages/tensorflow/python/keras/engine/base_layer_v1.py:1719: UserWarning: `layer.apply` is deprecated and will be removed in a future version. Please use `layer.__call__` method instead.\n",
      "  warnings.warn('`layer.apply` is deprecated and '\n",
      "/Users/patoch/opt/anaconda3/envs/deepsource_env/lib/python3.9/site-packages/tensorflow/python/keras/legacy_tf_layers/normalization.py:307: UserWarning: `tf.layers.batch_normalization` is deprecated and will be removed in a future version. Please use `tf.keras.layers.BatchNormalization` instead. In particular, `tf.control_dependencies(tf.GraphKeys.UPDATE_OPS)` should not be used (consult the `tf.keras.layers.BatchNormalization` documentation).\n",
      "  warnings.warn(\n",
      "/Users/patoch/opt/anaconda3/envs/deepsource_env/lib/python3.9/site-packages/tensorflow/python/keras/legacy_tf_layers/core.py:268: UserWarning: `tf.layers.dropout` is deprecated and will be removed in a future version. Please use `tf.keras.layers.Dropout` instead.\n",
      "  warnings.warn('`tf.layers.dropout` is deprecated and '\n"
     ]
    },
    {
     "name": "stdout",
     "output_type": "stream",
     "text": [
      "WARNING:tensorflow:From /Users/patoch/opt/anaconda3/envs/deepsource_env/lib/python3.9/site-packages/tensorflow/python/training/rmsprop.py:123: calling Ones.__init__ (from tensorflow.python.ops.init_ops) with dtype is deprecated and will be removed in a future version.\n",
      "Instructions for updating:\n",
      "Call initializer instance with the dtype argument instead of passing it to the constructor\n",
      "INFO:tensorflow:Restoring parameters from ./cmodel/model\n"
     ]
    },
    {
     "name": "stderr",
     "output_type": "stream",
     "text": [
      "2022-11-30 12:27:38.641419: I tensorflow/core/platform/cpu_feature_guard.cc:142] This TensorFlow binary is optimized with oneAPI Deep Neural Network Library (oneDNN) to use the following CPU instructions in performance-critical operations:  SSE4.1 SSE4.2 AVX AVX2 FMA\n",
      "To enable them in other operations, rebuild TensorFlow with the appropriate compiler flags.\n",
      "2022-11-30 12:27:38.685601: I tensorflow/compiler/mlir/mlir_graph_optimization_pass.cc:196] None of the MLIR optimization passes are enabled (registered 0 passes)\n",
      "WARNING: FITSFixedWarning: 'datfix' made the change 'Set MJD-OBS to 56658.324728 from DATE-OBS'. [astropy.wcs.wcs]\n",
      "WARNING: FITSFixedWarning: 'datfix' made the change 'Set MJD-OBS to 56658.320483 from DATE-OBS'. [astropy.wcs.wcs]\n",
      "WARNING: FITSFixedWarning: 'datfix' made the change 'Set MJD-OBS to 56658.321843 from DATE-OBS'. [astropy.wcs.wcs]\n",
      "WARNING: FITSFixedWarning: 'datfix' made the change 'Set MJD-OBS to 56658.321752 from DATE-OBS'. [astropy.wcs.wcs]\n",
      "WARNING: FITSFixedWarning: 'datfix' made the change 'Set MJD-OBS to 56658.324178 from DATE-OBS'. [astropy.wcs.wcs]\n",
      "WARNING: FITSFixedWarning: 'datfix' made the change 'Set MJD-OBS to 56658.320476 from DATE-OBS'. [astropy.wcs.wcs]\n",
      "WARNING: FITSFixedWarning: 'datfix' made the change 'Set MJD-OBS to 56658.315914 from DATE-OBS'. [astropy.wcs.wcs]\n",
      "WARNING: FITSFixedWarning: 'datfix' made the change 'Set MJD-OBS to 56658.315946 from DATE-OBS'. [astropy.wcs.wcs]\n",
      "WARNING: FITSFixedWarning: 'datfix' made the change 'Set MJD-OBS to 56658.315961 from DATE-OBS'. [astropy.wcs.wcs]\n",
      "WARNING: FITSFixedWarning: 'datfix' made the change 'Set MJD-OBS to 56658.318380 from DATE-OBS'. [astropy.wcs.wcs]\n"
     ]
    },
    {
     "name": "stdout",
     "output_type": "stream",
     "text": [
      "Epoch:0, cost= 602.552106\n"
     ]
    }
   ],
   "source": [
    "ppdp = ds.GeneralDataProvider(images_path=images_path,models_path=models_path, margin=0, nx=510, ny=510,kernels=kernels, b_n=0.05, alpha=0)\n",
    "\n",
    "model_add = './cmodel'\n",
    "restore = os.path.exists(model_add)\n",
    "\n",
    "cnn = ds.ConvolutionalLayers(nx=patch_size,n_channel=1,restore=restore,model_add=model_add,arch_file_name='arch')\n",
    "\n",
    "cnn.train(ppdp,training_epochs=1,learning_rate = 0.01,n_s=1,dropout=0.2,verbose=10)\n"
   ]
  },
  {
   "cell_type": "code",
   "execution_count": 12,
   "metadata": {},
   "outputs": [
    {
     "name": "stdout",
     "output_type": "stream",
     "text": [
      "19  point sources are found!\n",
      "17  points are in noisy borders!\n",
      "[[257.  77.]\n",
      " [234. 122.]\n",
      " [136. 132.]\n",
      " [205. 156.]\n",
      " [378. 168.]\n",
      " [293. 236.]\n",
      " [387. 240.]\n",
      " [382. 248.]\n",
      " [ 80. 256.]\n",
      " [359. 260.]\n",
      " [305. 264.]\n",
      " [374. 291.]\n",
      " [432. 315.]\n",
      " [364. 323.]\n",
      " [166. 336.]\n",
      " [341. 343.]\n",
      " [294. 346.]\n",
      " [299. 381.]\n",
      " [272. 441.]]\n"
     ]
    },
    {
     "data": {
      "image/png": "[encoded data removed]",
      "text/plain": [
       "<Figure size 640x480 with 1 Axes>"
      ]
     },
     "metadata": {},
     "output_type": "display_data"
    }
   ],
   "source": [
    "image_file = images_path[0]\n",
    "model_file = models_path[0]\n",
    "\n",
    "catalog = ds.ps_extract(image_file,model_file,cnn,ds.fetch_data,loc_det='mean',ignore_border=0,jump_lim=3,area_lim=0,threshold_0=1.,lw=510,pad=1,verbose=False,useNetwork=False)\n",
    "ds.visualize_cross_match(image_file,model_file,catalog,border=30)\n",
    "print(catalog[:,:2])"
   ]
  },
  {
   "cell_type": "markdown",
   "metadata": {},
   "source": [
    "## Compute purity and completeness:\n",
    "### Getting the detected sources for the whole test set"
   ]
  },
  {
   "cell_type": "code",
   "execution_count": 13,
   "metadata": {},
   "outputs": [],
   "source": [
    "%%capture\n",
    "listDetectedSources = []\n",
    "for i in tqdm(range(len(images_path))):\n",
    "    image_file = images_path[i]\n",
    "    model_file = models_path[i]\n",
    "    catalog = ds.ps_extract(image_file,model_file,cnn,ds.fetch_data,loc_det='mean',ignore_border=10,jump_lim=3,area_lim=0,threshold_0=1.,lw=510,pad=10,verbose=False,useNetwork=False)\n",
    "    listDetectedSources.append(catalog[:,:2].T)"
   ]
  },
  {
   "cell_type": "code",
   "execution_count": 14,
   "metadata": {},
   "outputs": [
    {
     "name": "stdout",
     "output_type": "stream",
     "text": [
      "916\n"
     ]
    }
   ],
   "source": [
    "print(len(listDetectedSources))"
   ]
  },
  {
   "cell_type": "markdown",
   "metadata": {},
   "source": [
    "### Compute purity and completeness"
   ]
  },
  {
   "cell_type": "code",
   "execution_count": 15,
   "metadata": {},
   "outputs": [
    {
     "name": "stdout",
     "output_type": "stream",
     "text": [
      "[[257. 234. 136. 205. 378. 293. 387. 382.  80. 359. 305. 374. 432. 364.\n",
      "  166. 341. 294. 299. 272.]\n",
      " [ 77. 122. 132. 156. 168. 236. 240. 248. 256. 260. 264. 291. 315. 323.\n",
      "  336. 343. 346. 381. 441.]]\n",
      "[[166. 206.]\n",
      " [336. 156.]]\n"
     ]
    }
   ],
   "source": [
    "print(listDetectedSources[0])\n",
    "print(listRealDetection_px[0])"
   ]
  },
  {
   "cell_type": "code",
   "execution_count": 16,
   "metadata": {},
   "outputs": [
    {
     "name": "stdout",
     "output_type": "stream",
     "text": [
      "Result (TP, FP, FN):  [ 2655 13784   181]\n"
     ]
    }
   ],
   "source": [
    "resAllComparison = myUtils.compareRealAndDetectedSources_pixels(listDetectedSources, listRealDetection_px)\n",
    "print(\"Result (TP, FP, FN): \", resAllComparison)"
   ]
  },
  {
   "cell_type": "code",
   "execution_count": 17,
   "metadata": {},
   "outputs": [
    {
     "name": "stdout",
     "output_type": "stream",
     "text": [
      "Purity:  0.16150617434150497\n",
      "Completness:  0.9361777150916785\n"
     ]
    }
   ],
   "source": [
    "purityAll = resAllComparison[0] / (resAllComparison[0] + resAllComparison[1])\n",
    "CompletnessAll = resAllComparison[0] / (resAllComparison[0] + resAllComparison[2])\n",
    "print(\"Purity: \", purityAll)\n",
    "print(\"Completness: \", CompletnessAll)"
   ]
  },
  {
   "cell_type": "code",
   "execution_count": 18,
   "metadata": {},
   "outputs": [
    {
     "data": {
      "text/plain": [
       "(11, 2)"
      ]
     },
     "execution_count": 18,
     "metadata": {},
     "output_type": "execute_result"
    }
   ],
   "source": [
    "np.array(listDetectedSources[1]).T.shape"
   ]
  },
  {
   "cell_type": "markdown",
   "metadata": {},
   "source": [
    "## Try to match the completeness obtained from karabo"
   ]
  },
  {
   "cell_type": "code",
   "execution_count": 19,
   "metadata": {},
   "outputs": [],
   "source": [
    "%%capture\n",
    "listDetectedSources = []\n",
    "for i in tqdm(range(len(images_path))):\n",
    "    image_file = images_path[i]\n",
    "    model_file = models_path[i]\n",
    "    catalog = ds.ps_extract(image_file,model_file,cnn,ds.fetch_data,loc_det='peak',ignore_border=10,jump_lim=2,area_lim=105,threshold_0=4,lw=510,pad=10,verbose=False,useNetwork=False)\n",
    "    listDetectedSources.append(catalog[:,:2].T)"
   ]
  },
  {
   "cell_type": "code",
   "execution_count": 20,
   "metadata": {},
   "outputs": [
    {
     "name": "stdout",
     "output_type": "stream",
     "text": [
      "Result (TP, FP, FN):  [2491  144  345]\n"
     ]
    }
   ],
   "source": [
    "resAllComparison = myUtils.compareRealAndDetectedSources_pixels(listDetectedSources, listRealDetection_px)\n",
    "print(\"Result (TP, FP, FN): \", resAllComparison)"
   ]
  },
  {
   "cell_type": "code",
   "execution_count": 21,
   "metadata": {},
   "outputs": [
    {
     "name": "stdout",
     "output_type": "stream",
     "text": [
      "Purity:  0.9453510436432637\n",
      "Completness:  0.8783497884344147\n"
     ]
    }
   ],
   "source": [
    "purityAll = resAllComparison[0] / (resAllComparison[0] + resAllComparison[1])\n",
    "CompletnessAll = resAllComparison[0] / (resAllComparison[0] + resAllComparison[2])\n",
    "print(\"Purity: \", purityAll)\n",
    "print(\"Completness: \", CompletnessAll)"
   ]
  },
  {
   "cell_type": "markdown",
   "metadata": {},
   "source": [
    "# With the noisy DataSet\n"
   ]
  },
  {
   "cell_type": "code",
   "execution_count": 22,
   "metadata": {},
   "outputs": [],
   "source": [
    "images_path_noisy = []   # list containing all the fits file path for the test \n",
    "\n",
    "for ind in indices:\n",
    "    key = keys[ind]\n",
    "\n",
    "    data = os.path.join(data_path, 'clean_noisy', \"clean_noisy_gaussians_\" + key + \".fits\")\n",
    "    images_path_noisy.append(data)"
   ]
  },
  {
   "cell_type": "code",
   "execution_count": 23,
   "metadata": {},
   "outputs": [],
   "source": [
    "%%capture\n",
    "listDetectedSources = []\n",
    "for i in tqdm(range(len(images_path_noisy))):\n",
    "    image_file = images_path_noisy[i]\n",
    "    model_file = models_path[i]\n",
    "    catalog = ds.ps_extract(image_file,model_file,cnn,ds.fetch_data,loc_det='peak',ignore_border=10,jump_lim=2,area_lim=105,threshold_0=1,lw=510,pad=10,verbose=False,useNetwork=False)\n",
    "    listDetectedSources.append(catalog[:,:2].T)"
   ]
  },
  {
   "cell_type": "code",
   "execution_count": 24,
   "metadata": {},
   "outputs": [
    {
     "name": "stdout",
     "output_type": "stream",
     "text": [
      "Purity:  1.0\n",
      "Completness:  0.012693935119887164\n",
      "Result (TP, FP, FN):  [  36    0 2800]\n"
     ]
    }
   ],
   "source": [
    "resAllComparison = myUtils.compareRealAndDetectedSources_pixels(listDetectedSources, listRealDetection_px)\n",
    "purityAll = resAllComparison[0] / (resAllComparison[0] + resAllComparison[1])\n",
    "CompletnessAll = resAllComparison[0] / (resAllComparison[0] + resAllComparison[2])\n",
    "\n",
    "print(\"Purity: \", purityAll)\n",
    "print(\"Completness: \", CompletnessAll)\n",
    "print(\"Result (TP, FP, FN): \", resAllComparison)"
   ]
  },
  {
   "cell_type": "code",
   "execution_count": 25,
   "metadata": {},
   "outputs": [
    {
     "data": {
      "text/plain": [
       "(916, 512, 512)"
      ]
     },
     "execution_count": 25,
     "metadata": {},
     "output_type": "execute_result"
    }
   ],
   "source": [
    "tmp = np.load('/Users/patoch/Desktop/Patoch/Uni/2nd-Year/MasterThesis/master-thesis/Dataset.nosync/Re&Im_st.1/test_seed_0.npy')\n",
    "tmp.shape"
   ]
  },
  {
   "cell_type": "code",
   "execution_count": 27,
   "metadata": {},
   "outputs": [
    {
     "data": {
      "text/plain": [
       "<matplotlib.image.AxesImage at 0x1713b37f0>"
      ]
     },
     "execution_count": 27,
     "metadata": {},
     "output_type": "execute_result"
    },
    {
     "data": {
      "image/png": "[encoded data removed]",
      "text/plain": [
       "<Figure size 640x480 with 1 Axes>"
      ]
     },
     "metadata": {},
     "output_type": "display_data"
    }
   ],
   "source": [
    "plt.imshow(tmp[0,:,:])"
   ]
  },
  {
   "cell_type": "code",
   "execution_count": null,
   "metadata": {},
   "outputs": [],
   "source": []
  }
 ],
 "metadata": {
  "kernelspec": {
   "display_name": "Python 3.9.13 ('deepsource_env')",
   "language": "python",
   "name": "python3"
  },
  "language_info": {
   "codemirror_mode": {
    "name": "ipython",
    "version": 3
   },
   "file_extension": ".py",
   "mimetype": "text/x-python",
   "name": "python",
   "nbconvert_exporter": "python",
   "pygments_lexer": "ipython3",
   "version": "3.9.13 | packaged by conda-forge | (main, May 27 2022, 17:00:52) \n[Clang 13.0.1 ]"
  },
  "orig_nbformat": 4,
  "vscode": {
   "interpreter": {
    "hash": "ad46b7c747b517ad20c3e776f8ab66db60c051f7e8a02ee70850838cf8109f72"
   }
  }
 },
 "nbformat": 4,
 "nbformat_minor": 2
}
